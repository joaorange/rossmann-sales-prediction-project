{
 "cells": [
  {
   "cell_type": "markdown",
   "metadata": {
    "ExecuteTime": {
     "end_time": "2023-01-24T01:54:42.787729Z",
     "start_time": "2023-01-24T01:54:42.763731Z"
    }
   },
   "source": [
    "# 0.0. IMPORTS"
   ]
  },
  {
   "cell_type": "code",
   "execution_count": 122,
   "metadata": {
    "ExecuteTime": {
     "end_time": "2023-05-27T18:12:32.162286Z",
     "start_time": "2023-05-27T18:12:32.137284Z"
    }
   },
   "outputs": [],
   "source": [
    "import math\n",
    "import pandas as pd\n",
    "import inflection\n",
    "import numpy as np\n",
    "import seaborn as sns\n",
    "import matplotlib.pyplot as plt\n",
    "import datetime\n",
    "import xgboost as xgb\n",
    "import pickle\n",
    "import random\n",
    "import warnings\n",
    "\n",
    "from matplotlib import rcParams\n",
    "from matplotlib.pyplot import GridSpec\n",
    "from IPython.display import Image\n",
    "from tabulate import tabulate\n",
    "from scipy import stats as ss\n",
    "from sklearn.linear_model import LinearRegression, Lasso\n",
    "from sklearn.preprocessing import RobustScaler, MinMaxScaler, LabelEncoder\n",
    "from sklearn.metrics import mean_absolute_error, mean_absolute_percentage_error, mean_squared_error\n",
    "from sklearn.ensemble import RandomForestRegressor"
   ]
  },
  {
   "cell_type": "markdown",
   "metadata": {},
   "source": [
    "## 0.1. Helper Functions"
   ]
  },
  {
   "cell_type": "code",
   "execution_count": 123,
   "metadata": {
    "ExecuteTime": {
     "end_time": "2023-05-27T18:12:32.208290Z",
     "start_time": "2023-05-27T18:12:32.165287Z"
    }
   },
   "outputs": [],
   "source": [
    "\n",
    "# Cramer'v is a measure of association between two nominal variables. Here I built a function to calculate this measure. \n",
    "\n",
    "def cramer_v(x,y):\n",
    "    cm = pd.crosstab(x,y).values\n",
    "    n = cm.sum()\n",
    "    r, k = cm.shape\n",
    "    chi2 = ss.chi2_contingency( cm )[0]\n",
    "    chi2corr = max(0, chi2 - (k-1) * (r-1) / (n-1))\n",
    "    kcorr = k - (k-1)**2/(n-1)\n",
    "    rcorr = r - (r-1)**2/(n-1)\n",
    "    return np.sqrt((chi2corr/n) / (min(kcorr-1, rcorr-1)))\n",
    "\n",
    "# Since the sklearn doesn't have the mean percentage error, I built this function to calculate it. \n",
    "\n",
    "def mean_percentage_error( y, yhat):\n",
    "    return np.mean(( y- yhat) / y)\n",
    "\n",
    "def ml_error(model_name, y, yhat):\n",
    "    mae = mean_absolute_error(y, yhat)\n",
    "    mape = mean_absolute_percentage_error(y, yhat)\n",
    "    rmse = np.sqrt(mean_squared_error(y, yhat))\n",
    "    return pd.DataFrame({ \"Model Name\": model_name,\n",
    "                          \"MAE\": mae,\n",
    "                          \"MAPE\": mape,\n",
    "                          \"RMSE\": rmse }, index = [0])\n",
    "\n",
    "# The cross_validation function splits the dataset into test and train, uses a given model, and then gives \n",
    "# the error measurements. It will be used in the model part at the end of project.\n",
    "\n",
    "\n",
    "def cross_validation(x_training, kfold, model_name, model, verbose = False):\n",
    "    mae_list = []\n",
    "    mape_list = []\n",
    "    rmse_list = []\n",
    "\n",
    "    for k in reversed (range(1,kfold + 1)):\n",
    "        if verbose: \n",
    "            print(\"\\n KFold Number: {}\".format(k))\n",
    "\n",
    "        # start and end date for validation\n",
    "\n",
    "        validation_start_date = x_training[\"date\"].max() - datetime.timedelta(days = k*6*7)\n",
    "        validation_end_date = x_training[\"date\"].max() - datetime.timedelta(days = (k-1)*6*7)\n",
    "\n",
    "        # filtering dataset\n",
    "\n",
    "        training = x_training[x_training[\"date\"] < validation_start_date]\n",
    "        validation = x_training[(x_training[\"date\"] >= validation_start_date) & (x_training[\"date\"] <= validation_end_date) ]\n",
    "\n",
    "        # training and validation dataset\n",
    "        # training \n",
    "\n",
    "        xtraining = training.drop([\"date\",\"sales\"], axis = 1)\n",
    "        ytraining = training[\"sales\"]\n",
    "\n",
    "        # validation\n",
    "        xvalidation = validation.drop([\"date\",\"sales\"], axis = 1)\n",
    "        yvalidation = validation[\"sales\"]\n",
    "\n",
    "        # model\n",
    "        m = model.fit(xtraining, ytraining)\n",
    "\n",
    "        # prediction\n",
    "        yhat_lr = m.predict (xvalidation)\n",
    "\n",
    "        # performance\n",
    "        m_result = ml_error(model_name, np.expm1(yvalidation), np.expm1(yhat_lr))\n",
    "\n",
    "        # store performance of each kfold iteration\n",
    "        mae_list.append(m_result[\"MAE\"])\n",
    "        mape_list.append(m_result[\"MAPE\"])\n",
    "        rmse_list.append(m_result[\"RMSE\"])\n",
    "\n",
    "    return pd.DataFrame({\"Model Name\": model_name, \n",
    "                         \"MAE CV\": np.round(np.mean(mae_list), 2).astype(str) + \" +/- \" + \n",
    "                         np.round(np.std(mae_list), 2).astype(str),\n",
    "                         \"MAPE CV\": np.round(np.mean(mape_list), 2).astype(str) + \" +/- \" + \n",
    "                         np.round(np.std(mape_list), 2).astype(str),\n",
    "                         \"RMSE CV\": np.round(np.mean(rmse_list), 2).astype(str) + \" +/- \" +\n",
    "                         np.round(np.std(rmse_list), 2).astype(str)}, \n",
    "                         index = [0])"
   ]
  },
  {
   "cell_type": "markdown",
   "metadata": {},
   "source": [
    "## 0.2. Loading Data"
   ]
  },
  {
   "cell_type": "code",
   "execution_count": 124,
   "metadata": {
    "ExecuteTime": {
     "end_time": "2023-05-27T18:12:34.094979Z",
     "start_time": "2023-05-27T18:12:32.212293Z"
    }
   },
   "outputs": [],
   "source": [
    "df_sales_raw = pd.read_csv(\"data/train.csv\", low_memory = False)\n",
    "df_store_raw = pd.read_csv(\"data/store.csv\", low_memory = False)\n",
    "\n",
    "# merge\n",
    "df_raw = pd.merge( df_sales_raw, df_store_raw, how = \"left\", on = \"Store\")"
   ]
  },
  {
   "cell_type": "markdown",
   "metadata": {},
   "source": [
    "# 1.0. DATA DESCRIPTION"
   ]
  },
  {
   "cell_type": "code",
   "execution_count": 125,
   "metadata": {
    "ExecuteTime": {
     "end_time": "2023-05-27T18:12:34.298222Z",
     "start_time": "2023-05-27T18:12:34.098978Z"
    }
   },
   "outputs": [],
   "source": [
    "df1 = df_raw.copy()"
   ]
  },
  {
   "cell_type": "markdown",
   "metadata": {},
   "source": [
    "## 1.1. Rename Columns"
   ]
  },
  {
   "cell_type": "code",
   "execution_count": 126,
   "metadata": {
    "ExecuteTime": {
     "end_time": "2023-05-27T18:12:34.328917Z",
     "start_time": "2023-05-27T18:12:34.305222Z"
    }
   },
   "outputs": [],
   "source": [
    "# Putting a underscore before the capital letters after the beginning of the word, and leaving everything in lowercase after.\n",
    "\n",
    "cols_old = ['Store', 'DayOfWeek', 'Date', 'Sales', 'Customers', 'Open', 'Promo',\n",
    "       'StateHoliday', 'SchoolHoliday', 'StoreType', 'Assortment',\n",
    "       'CompetitionDistance', 'CompetitionOpenSinceMonth',\n",
    "       'CompetitionOpenSinceYear', 'Promo2', 'Promo2SinceWeek',\n",
    "       'Promo2SinceYear', 'PromoInterval']\n",
    "snakecase = lambda x: inflection.underscore(x)\n",
    "\n",
    "cols_new = list(map(snakecase, cols_old))\n",
    "\n",
    "# rename\n",
    "df1.columns = cols_new"
   ]
  },
  {
   "cell_type": "markdown",
   "metadata": {},
   "source": [
    "## 1.2. Data Dimensions"
   ]
  },
  {
   "cell_type": "code",
   "execution_count": 127,
   "metadata": {
    "ExecuteTime": {
     "end_time": "2023-05-27T18:12:34.343497Z",
     "start_time": "2023-05-27T18:12:34.332496Z"
    }
   },
   "outputs": [
    {
     "name": "stdout",
     "output_type": "stream",
     "text": [
      "Number of Rows: 1017209\n",
      "Number of Cols: 18\n"
     ]
    }
   ],
   "source": [
    "print(\"Number of Rows: {}\".format(df1.shape[0]))\n",
    "print(\"Number of Cols: {}\".format(df1.shape[1]))"
   ]
  },
  {
   "cell_type": "markdown",
   "metadata": {},
   "source": [
    "## 1.3 Data Types"
   ]
  },
  {
   "cell_type": "code",
   "execution_count": 128,
   "metadata": {
    "ExecuteTime": {
     "end_time": "2023-05-27T18:12:34.671654Z",
     "start_time": "2023-05-27T18:12:34.351496Z"
    }
   },
   "outputs": [
    {
     "data": {
      "text/plain": [
       "store                                    int64\n",
       "day_of_week                              int64\n",
       "date                            datetime64[ns]\n",
       "sales                                    int64\n",
       "customers                                int64\n",
       "open                                     int64\n",
       "promo                                    int64\n",
       "state_holiday                           object\n",
       "school_holiday                           int64\n",
       "store_type                              object\n",
       "assortment                              object\n",
       "competition_distance                   float64\n",
       "competition_open_since_month           float64\n",
       "competition_open_since_year            float64\n",
       "promo2                                   int64\n",
       "promo2_since_week                      float64\n",
       "promo2_since_year                      float64\n",
       "promo_interval                          object\n",
       "dtype: object"
      ]
     },
     "execution_count": 128,
     "metadata": {},
     "output_type": "execute_result"
    }
   ],
   "source": [
    "# Transforming date column to datetime\n",
    "\n",
    "df1[\"date\"] = pd.to_datetime(df1[\"date\"])\n",
    "df1.dtypes"
   ]
  },
  {
   "cell_type": "markdown",
   "metadata": {},
   "source": [
    "## 1.4. Check NA"
   ]
  },
  {
   "cell_type": "code",
   "execution_count": 129,
   "metadata": {
    "ExecuteTime": {
     "end_time": "2023-05-27T18:12:35.032987Z",
     "start_time": "2023-05-27T18:12:34.685655Z"
    }
   },
   "outputs": [
    {
     "data": {
      "text/plain": [
       "store                                0\n",
       "day_of_week                          0\n",
       "date                                 0\n",
       "sales                                0\n",
       "customers                            0\n",
       "open                                 0\n",
       "promo                                0\n",
       "state_holiday                        0\n",
       "school_holiday                       0\n",
       "store_type                           0\n",
       "assortment                           0\n",
       "competition_distance              2642\n",
       "competition_open_since_month    323348\n",
       "competition_open_since_year     323348\n",
       "promo2                               0\n",
       "promo2_since_week               508031\n",
       "promo2_since_year               508031\n",
       "promo_interval                  508031\n",
       "dtype: int64"
      ]
     },
     "execution_count": 129,
     "metadata": {},
     "output_type": "execute_result"
    }
   ],
   "source": [
    "df1.isna().sum()"
   ]
  },
  {
   "cell_type": "markdown",
   "metadata": {},
   "source": [
    "## 1.5. Fillout NA"
   ]
  },
  {
   "cell_type": "code",
   "execution_count": 130,
   "metadata": {
    "ExecuteTime": {
     "end_time": "2023-05-27T18:14:38.400335Z",
     "start_time": "2023-05-27T18:12:35.037996Z"
    }
   },
   "outputs": [],
   "source": [
    "# competition_distance\n",
    "df1[\"competition_distance\"] = df1[\"competition_distance\"].apply(lambda x: 200000.0 if math.isnan( x ) else x)\n",
    "\n",
    "# competition_open_since_month\n",
    "# replacing the nan values with the month where the sale was made\n",
    "df1[\"competition_open_since_month\"] = df1.apply( lambda x: x[\"date\"].month if math.isnan( x[\"competition_open_since_month\"]) else x[\"competition_open_since_month\"], axis = 1)\n",
    "\n",
    "# competition_open_since_year     \n",
    "# replacing the nan values with the year where the sale was made\n",
    "df1[\"competition_open_since_year\"] = df1.apply( lambda x: x[\"date\"].year if math.isnan( x[\"competition_open_since_year\"]) else x[\"competition_open_since_year\"], axis = 1)\n",
    "                             \n",
    "# promo2_since_week \n",
    "# replacing the nan values with the week where the sale was made\n",
    "df1[\"promo2_since_week\"] = df1.apply( lambda x: x[\"date\"].week if math.isnan( x[\"promo2_since_week\"]) else x[\"promo2_since_week\"], axis = 1)\n",
    "                             \n",
    "# promo2_since_year \n",
    "# replacing the nan values with the year where the sale was made\n",
    "df1[\"promo2_since_year\"] = df1.apply( lambda x: x[\"date\"].year if math.isnan( x[\"promo2_since_year\"]) else x[\"promo2_since_year\"], axis = 1)\n",
    "\n",
    "# promo_interval                  \n",
    "\n",
    "df1[\"promo_interval\"].fillna(0, inplace = True)\n",
    "\n",
    "# Since the \"promo_interval\" column is with the values \"jan\", \"feb\", etc. I created the month_map to pass the same values to\n",
    "# the month where the sale was made.\n",
    "# Then, I applied a function to find out if, in a month, there was a promotion going on.\n",
    "month_map = {1: \"Jan\", 2: \"Feb\", 3: \"Mar\",4: \"Apr\", 5: \"May\", 6: \"Jun\", 7: \"Jul\",8: \"Aug\",9: \"Sept\", 10: \"Oct\",11: \"Nov\", 12: \"Dec\"}\n",
    "\n",
    "df1[\"month_map\"] = df1[\"date\"].dt.month.map(month_map)\n",
    "\n",
    "df1[\"is_promo\"] = df1[[\"promo_interval\",\"month_map\"]].apply(lambda x: 0 if x[\"promo_interval\"] == 0 else 1 if x[\"month_map\"] in x[\"promo_interval\"].split(\",\") else 0, axis = 1)"
   ]
  },
  {
   "cell_type": "markdown",
   "metadata": {
    "ExecuteTime": {
     "end_time": "2023-01-25T19:23:08.073289Z",
     "start_time": "2023-01-25T19:23:06.326735Z"
    }
   },
   "source": [
    "## 1.6. Change Types"
   ]
  },
  {
   "cell_type": "code",
   "execution_count": 131,
   "metadata": {
    "ExecuteTime": {
     "end_time": "2023-05-27T18:14:38.525622Z",
     "start_time": "2023-05-27T18:14:38.412338Z"
    }
   },
   "outputs": [],
   "source": [
    "df1[\"competition_open_since_month\"] = df1[\"competition_open_since_month\"].astype(\"int64\")\n",
    "df1[\"competition_open_since_year\"] = df1[\"competition_open_since_year\"].astype(\"int64\")\n",
    "\n",
    "df1[\"promo2_since_week\"] = df1[\"promo2_since_week\"].astype(\"int64\")\n",
    "df1[\"promo2_since_year\"] = df1[\"promo2_since_year\"].astype(\"int64\")"
   ]
  },
  {
   "cell_type": "markdown",
   "metadata": {
    "ExecuteTime": {
     "end_time": "2023-01-25T19:28:25.586585Z",
     "start_time": "2023-01-25T19:28:25.576794Z"
    }
   },
   "source": [
    "## 1.7. Descriptive Statistics"
   ]
  },
  {
   "cell_type": "code",
   "execution_count": 132,
   "metadata": {
    "ExecuteTime": {
     "end_time": "2023-05-27T18:14:38.924939Z",
     "start_time": "2023-05-27T18:14:38.531468Z"
    },
    "code_folding": []
   },
   "outputs": [],
   "source": [
    "numeric = list(pd.DataFrame(df1.dtypes[(df1.dtypes == 'int64') | (df1.dtypes == \"float64\")]).reset_index()[\"index\"])\n",
    "non_numeric = list(pd.DataFrame(df1.dtypes[(df1.dtypes != 'int64') & (df1.dtypes != \"float64\") &\n",
    "                                          (df1.dtypes != 'datetime64[ns]')]).reset_index()[\"index\"])\n",
    "num_attributes = df1[numeric]\n",
    "cat_attributes = df1[non_numeric]"
   ]
  },
  {
   "cell_type": "markdown",
   "metadata": {},
   "source": [
    "## 1.7.1 Numerical Attributes"
   ]
  },
  {
   "cell_type": "code",
   "execution_count": 133,
   "metadata": {
    "ExecuteTime": {
     "end_time": "2023-05-27T18:14:43.423998Z",
     "start_time": "2023-05-27T18:14:38.929041Z"
    }
   },
   "outputs": [],
   "source": [
    "# Central Tendency - Mean, Median\n",
    "ct1 = pd.DataFrame(num_attributes.apply(np.mean)).T\n",
    "ct2 = pd.DataFrame(num_attributes.apply(np.median)).T\n",
    "\n",
    "# Dispersion - Std, Min, Max, Range, Skew, Kurtosis\n",
    "d1 = pd.DataFrame (num_attributes.apply(np.std)).T\n",
    "d2 = pd.DataFrame (num_attributes.apply(min)).T\n",
    "d3 = pd.DataFrame (num_attributes.apply(max)).T\n",
    "d4 = pd.DataFrame (num_attributes.apply(lambda x: x.max() - x.min())).T\n",
    "d5 = pd.DataFrame (num_attributes.apply(lambda x: x.skew())).T\n",
    "d6 = pd.DataFrame (num_attributes.apply(lambda x: x.kurtosis())).T\n",
    "\n",
    "m = pd.concat([d2, d3, d4, ct1, ct2, d1, d5, d6]).T.reset_index()\n",
    "m.columns = [\"attributes\",\"min\",\"max\",\"range\",\"mean\",\"median\",\"std\",\"skew\",\"kurtosis\"]"
   ]
  },
  {
   "cell_type": "code",
   "execution_count": 134,
   "metadata": {
    "ExecuteTime": {
     "end_time": "2023-05-27T18:14:43.487007Z",
     "start_time": "2023-05-27T18:14:43.429000Z"
    }
   },
   "outputs": [
    {
     "data": {
      "text/html": [
       "<div>\n",
       "<style scoped>\n",
       "    .dataframe tbody tr th:only-of-type {\n",
       "        vertical-align: middle;\n",
       "    }\n",
       "\n",
       "    .dataframe tbody tr th {\n",
       "        vertical-align: top;\n",
       "    }\n",
       "\n",
       "    .dataframe thead th {\n",
       "        text-align: right;\n",
       "    }\n",
       "</style>\n",
       "<table border=\"1\" class=\"dataframe\">\n",
       "  <thead>\n",
       "    <tr style=\"text-align: right;\">\n",
       "      <th></th>\n",
       "      <th>attributes</th>\n",
       "      <th>min</th>\n",
       "      <th>max</th>\n",
       "      <th>range</th>\n",
       "      <th>mean</th>\n",
       "      <th>median</th>\n",
       "      <th>std</th>\n",
       "      <th>skew</th>\n",
       "      <th>kurtosis</th>\n",
       "    </tr>\n",
       "  </thead>\n",
       "  <tbody>\n",
       "    <tr>\n",
       "      <th>0</th>\n",
       "      <td>store</td>\n",
       "      <td>1.0</td>\n",
       "      <td>1115.0</td>\n",
       "      <td>1114.0</td>\n",
       "      <td>558.429727</td>\n",
       "      <td>558.0</td>\n",
       "      <td>321.908493</td>\n",
       "      <td>-0.000955</td>\n",
       "      <td>-1.200524</td>\n",
       "    </tr>\n",
       "    <tr>\n",
       "      <th>1</th>\n",
       "      <td>day_of_week</td>\n",
       "      <td>1.0</td>\n",
       "      <td>7.0</td>\n",
       "      <td>6.0</td>\n",
       "      <td>3.998341</td>\n",
       "      <td>4.0</td>\n",
       "      <td>1.997390</td>\n",
       "      <td>0.001593</td>\n",
       "      <td>-1.246873</td>\n",
       "    </tr>\n",
       "    <tr>\n",
       "      <th>2</th>\n",
       "      <td>sales</td>\n",
       "      <td>0.0</td>\n",
       "      <td>41551.0</td>\n",
       "      <td>41551.0</td>\n",
       "      <td>5773.818972</td>\n",
       "      <td>5744.0</td>\n",
       "      <td>3849.924283</td>\n",
       "      <td>0.641460</td>\n",
       "      <td>1.778375</td>\n",
       "    </tr>\n",
       "    <tr>\n",
       "      <th>3</th>\n",
       "      <td>customers</td>\n",
       "      <td>0.0</td>\n",
       "      <td>7388.0</td>\n",
       "      <td>7388.0</td>\n",
       "      <td>633.145946</td>\n",
       "      <td>609.0</td>\n",
       "      <td>464.411506</td>\n",
       "      <td>1.598650</td>\n",
       "      <td>7.091773</td>\n",
       "    </tr>\n",
       "    <tr>\n",
       "      <th>4</th>\n",
       "      <td>open</td>\n",
       "      <td>0.0</td>\n",
       "      <td>1.0</td>\n",
       "      <td>1.0</td>\n",
       "      <td>0.830107</td>\n",
       "      <td>1.0</td>\n",
       "      <td>0.375539</td>\n",
       "      <td>-1.758045</td>\n",
       "      <td>1.090723</td>\n",
       "    </tr>\n",
       "    <tr>\n",
       "      <th>5</th>\n",
       "      <td>promo</td>\n",
       "      <td>0.0</td>\n",
       "      <td>1.0</td>\n",
       "      <td>1.0</td>\n",
       "      <td>0.381515</td>\n",
       "      <td>0.0</td>\n",
       "      <td>0.485758</td>\n",
       "      <td>0.487838</td>\n",
       "      <td>-1.762018</td>\n",
       "    </tr>\n",
       "    <tr>\n",
       "      <th>6</th>\n",
       "      <td>school_holiday</td>\n",
       "      <td>0.0</td>\n",
       "      <td>1.0</td>\n",
       "      <td>1.0</td>\n",
       "      <td>0.178647</td>\n",
       "      <td>0.0</td>\n",
       "      <td>0.383056</td>\n",
       "      <td>1.677842</td>\n",
       "      <td>0.815154</td>\n",
       "    </tr>\n",
       "    <tr>\n",
       "      <th>7</th>\n",
       "      <td>competition_distance</td>\n",
       "      <td>20.0</td>\n",
       "      <td>200000.0</td>\n",
       "      <td>199980.0</td>\n",
       "      <td>5935.442677</td>\n",
       "      <td>2330.0</td>\n",
       "      <td>12547.646829</td>\n",
       "      <td>10.242344</td>\n",
       "      <td>147.789712</td>\n",
       "    </tr>\n",
       "    <tr>\n",
       "      <th>8</th>\n",
       "      <td>competition_open_since_month</td>\n",
       "      <td>1.0</td>\n",
       "      <td>12.0</td>\n",
       "      <td>11.0</td>\n",
       "      <td>6.786849</td>\n",
       "      <td>7.0</td>\n",
       "      <td>3.311085</td>\n",
       "      <td>-0.042076</td>\n",
       "      <td>-1.232607</td>\n",
       "    </tr>\n",
       "    <tr>\n",
       "      <th>9</th>\n",
       "      <td>competition_open_since_year</td>\n",
       "      <td>1900.0</td>\n",
       "      <td>2015.0</td>\n",
       "      <td>115.0</td>\n",
       "      <td>2010.324840</td>\n",
       "      <td>2012.0</td>\n",
       "      <td>5.515591</td>\n",
       "      <td>-7.235657</td>\n",
       "      <td>124.071304</td>\n",
       "    </tr>\n",
       "    <tr>\n",
       "      <th>10</th>\n",
       "      <td>promo2</td>\n",
       "      <td>0.0</td>\n",
       "      <td>1.0</td>\n",
       "      <td>1.0</td>\n",
       "      <td>0.500564</td>\n",
       "      <td>1.0</td>\n",
       "      <td>0.500000</td>\n",
       "      <td>-0.002255</td>\n",
       "      <td>-1.999999</td>\n",
       "    </tr>\n",
       "    <tr>\n",
       "      <th>11</th>\n",
       "      <td>promo2_since_week</td>\n",
       "      <td>1.0</td>\n",
       "      <td>52.0</td>\n",
       "      <td>51.0</td>\n",
       "      <td>23.619033</td>\n",
       "      <td>22.0</td>\n",
       "      <td>14.310057</td>\n",
       "      <td>0.178723</td>\n",
       "      <td>-1.184046</td>\n",
       "    </tr>\n",
       "    <tr>\n",
       "      <th>12</th>\n",
       "      <td>promo2_since_year</td>\n",
       "      <td>2009.0</td>\n",
       "      <td>2015.0</td>\n",
       "      <td>6.0</td>\n",
       "      <td>2012.793297</td>\n",
       "      <td>2013.0</td>\n",
       "      <td>1.662657</td>\n",
       "      <td>-0.784436</td>\n",
       "      <td>-0.210075</td>\n",
       "    </tr>\n",
       "    <tr>\n",
       "      <th>13</th>\n",
       "      <td>is_promo</td>\n",
       "      <td>0.0</td>\n",
       "      <td>1.0</td>\n",
       "      <td>1.0</td>\n",
       "      <td>0.171835</td>\n",
       "      <td>0.0</td>\n",
       "      <td>0.377237</td>\n",
       "      <td>1.739838</td>\n",
       "      <td>1.027039</td>\n",
       "    </tr>\n",
       "  </tbody>\n",
       "</table>\n",
       "</div>"
      ],
      "text/plain": [
       "                      attributes     min       max     range         mean  \\\n",
       "0                          store     1.0    1115.0    1114.0   558.429727   \n",
       "1                    day_of_week     1.0       7.0       6.0     3.998341   \n",
       "2                          sales     0.0   41551.0   41551.0  5773.818972   \n",
       "3                      customers     0.0    7388.0    7388.0   633.145946   \n",
       "4                           open     0.0       1.0       1.0     0.830107   \n",
       "5                          promo     0.0       1.0       1.0     0.381515   \n",
       "6                 school_holiday     0.0       1.0       1.0     0.178647   \n",
       "7           competition_distance    20.0  200000.0  199980.0  5935.442677   \n",
       "8   competition_open_since_month     1.0      12.0      11.0     6.786849   \n",
       "9    competition_open_since_year  1900.0    2015.0     115.0  2010.324840   \n",
       "10                        promo2     0.0       1.0       1.0     0.500564   \n",
       "11             promo2_since_week     1.0      52.0      51.0    23.619033   \n",
       "12             promo2_since_year  2009.0    2015.0       6.0  2012.793297   \n",
       "13                      is_promo     0.0       1.0       1.0     0.171835   \n",
       "\n",
       "    median           std       skew    kurtosis  \n",
       "0    558.0    321.908493  -0.000955   -1.200524  \n",
       "1      4.0      1.997390   0.001593   -1.246873  \n",
       "2   5744.0   3849.924283   0.641460    1.778375  \n",
       "3    609.0    464.411506   1.598650    7.091773  \n",
       "4      1.0      0.375539  -1.758045    1.090723  \n",
       "5      0.0      0.485758   0.487838   -1.762018  \n",
       "6      0.0      0.383056   1.677842    0.815154  \n",
       "7   2330.0  12547.646829  10.242344  147.789712  \n",
       "8      7.0      3.311085  -0.042076   -1.232607  \n",
       "9   2012.0      5.515591  -7.235657  124.071304  \n",
       "10     1.0      0.500000  -0.002255   -1.999999  \n",
       "11    22.0     14.310057   0.178723   -1.184046  \n",
       "12  2013.0      1.662657  -0.784436   -0.210075  \n",
       "13     0.0      0.377237   1.739838    1.027039  "
      ]
     },
     "execution_count": 134,
     "metadata": {},
     "output_type": "execute_result"
    }
   ],
   "source": [
    "m"
   ]
  },
  {
   "cell_type": "markdown",
   "metadata": {},
   "source": [
    "## 1.7.2 Categorical Attributes"
   ]
  },
  {
   "cell_type": "code",
   "execution_count": 135,
   "metadata": {
    "ExecuteTime": {
     "end_time": "2023-05-27T18:14:43.782129Z",
     "start_time": "2023-05-27T18:14:43.491007Z"
    }
   },
   "outputs": [
    {
     "data": {
      "text/plain": [
       "state_holiday      4\n",
       "store_type         4\n",
       "assortment         3\n",
       "promo_interval     4\n",
       "month_map         12\n",
       "dtype: int64"
      ]
     },
     "execution_count": 135,
     "metadata": {},
     "output_type": "execute_result"
    }
   ],
   "source": [
    "cat_attributes.apply(lambda x: x.unique().shape[0])"
   ]
  },
  {
   "cell_type": "code",
   "execution_count": 136,
   "metadata": {
    "ExecuteTime": {
     "end_time": "2023-05-27T18:14:44.466343Z",
     "start_time": "2023-05-27T18:14:43.786132Z"
    }
   },
   "outputs": [
    {
     "data": {
      "image/png": "[encoded data removed]",
      "text/plain": [
       "<Figure size 1296x504 with 3 Axes>"
      ]
     },
     "metadata": {
      "needs_background": "light"
     },
     "output_type": "display_data"
    }
   ],
   "source": [
    "# Checking sales by holidays, store type and assortment\n",
    "\n",
    "aux1 = df1[(df1[\"state_holiday\"] != \"0\") & (df1[\"sales\"] > 0)]\n",
    "\n",
    "plt.subplot(1, 3, 1)\n",
    "sns.boxplot( x=\"state_holiday\" , y=\"sales\", data = aux1)\n",
    "\n",
    "plt.subplot(1, 3, 2)\n",
    "sns.boxplot( x=\"store_type\" , y=\"sales\", data = aux1)\n",
    "\n",
    "plt.subplot(1, 3, 3)\n",
    "sns.boxplot( x=\"assortment\" , y=\"sales\", data = aux1)\n",
    "\n",
    "rcParams['figure.figsize'] = 18,7          \n",
    "plt.show()"
   ]
  },
  {
   "cell_type": "markdown",
   "metadata": {},
   "source": [
    "# 2.0. FEATURE ENGINEERING"
   ]
  },
  {
   "cell_type": "markdown",
   "metadata": {},
   "source": [
    "## 2.1. Mind Map Hypothesis"
   ]
  },
  {
   "cell_type": "code",
   "execution_count": 137,
   "metadata": {
    "ExecuteTime": {
     "end_time": "2023-05-27T18:14:44.497344Z",
     "start_time": "2023-05-27T18:14:44.470345Z"
    }
   },
   "outputs": [
    {
     "data": {
      "image/png": "[encoded data removed]",
      "text/plain": [
       "<IPython.core.display.Image object>"
      ]
     },
     "execution_count": 137,
     "metadata": {},
     "output_type": "execute_result"
    }
   ],
   "source": [
    "Image(\"img/mindmap.png\")"
   ]
  },
  {
   "cell_type": "markdown",
   "metadata": {},
   "source": [
    "## 2.1. Creating Hypothesis"
   ]
  },
  {
   "cell_type": "markdown",
   "metadata": {},
   "source": [
    "### 2.1.1. Store Hypothesis"
   ]
  },
  {
   "cell_type": "markdown",
   "metadata": {},
   "source": [
    "**1.** Stores with more employees should sell more.\n",
    "\n",
    "**2.** Stores with greater inventory capacity should sell more.\n",
    "\n",
    "**3.** Larger stores should sell more.\n",
    "\n",
    "**4.** Stores with larger assortments should sell more.\n",
    "\n",
    "**5.** Stores with closer competitors should sell less.\n",
    "\n",
    "**6.** Stores with competitors for the longest time should sell more."
   ]
  },
  {
   "cell_type": "markdown",
   "metadata": {},
   "source": [
    "### 2.1.2. Product Hypothesis"
   ]
  },
  {
   "cell_type": "markdown",
   "metadata": {},
   "source": [
    "**1.** Stores that invest more in marketing should sell more.\n",
    "\n",
    "**2.** Stores with greater product exposure should sell more.\n",
    "\n",
    "**3.** Stores with lower priced products should sell more.\n",
    "\n",
    "**4**. Stores with more aggressive promotions (bigger discounts) should sell more.\n",
    "\n",
    "**5.** Stores with promotions active for a longer time should sell more.\n",
    "\n",
    "**6.** Stores with more promotion days should sell more.\n",
    "\n",
    "**7**. Stores with more consecutive promotions should sell more."
   ]
  },
  {
   "cell_type": "markdown",
   "metadata": {},
   "source": [
    "### 2.1.3. Periodicity Hypothesis"
   ]
  },
  {
   "cell_type": "markdown",
   "metadata": {
    "ExecuteTime": {
     "end_time": "2023-01-27T14:58:01.532948Z",
     "start_time": "2023-01-27T14:58:01.472944Z"
    }
   },
   "source": [
    "**1.** Stores open over the Christmas holiday should sell more.\n",
    "\n",
    "**2.** Stores should sell more over the years.\n",
    "\n",
    "**3.** Stores should sell more in the second half of the year.\n",
    "\n",
    "**4.** Stores should sell more after the 10th of every month.\n",
    "\n",
    "**5.** Stores should sell less on weekends.\n",
    "\n",
    "**6.** Stores should sell less during school holidays."
   ]
  },
  {
   "cell_type": "markdown",
   "metadata": {},
   "source": [
    "## 2.2. Final Hypothesis"
   ]
  },
  {
   "cell_type": "markdown",
   "metadata": {
    "ExecuteTime": {
     "end_time": "2023-01-27T15:35:16.250053Z",
     "start_time": "2023-01-27T15:35:16.208570Z"
    }
   },
   "source": [
    "**1.** Stores with larger assortments should sell more.\n",
    "\n",
    "**2.** Stores with closer competitors should sell less.\n",
    "\n",
    "**3.** Stores with longer competitors should sell more.\n",
    "\n",
    "**4.** Stores with promotions active for a longer time should sell more.\n",
    "\n",
    "**5**. Stores with more consecutive promotions should sell more.\n",
    "\n",
    "**6.** Stores open over the Christmas holiday should sell more.\n",
    "\n",
    "**7.** Stores should sell more over the years.\n",
    "\n",
    "**8.** Stores should sell more in the second half of the year.\n",
    "\n",
    "**9.** Stores should sell more after the 10th of every month.\n",
    "\n",
    "**10.** Stores should sell less on weekends.\n",
    "\n",
    "**11.** Stores should sell less during school holidays."
   ]
  },
  {
   "cell_type": "markdown",
   "metadata": {},
   "source": [
    "## 2.3. Feature Engineering"
   ]
  },
  {
   "cell_type": "code",
   "execution_count": 138,
   "metadata": {
    "ExecuteTime": {
     "end_time": "2023-05-27T18:16:19.289210Z",
     "start_time": "2023-05-27T18:14:44.502347Z"
    }
   },
   "outputs": [
    {
     "name": "stderr",
     "output_type": "stream",
     "text": [
      "<ipython-input-138-28dfe063cb57>:13: FutureWarning: Series.dt.weekofyear and Series.dt.week have been deprecated.  Please use Series.dt.isocalendar().week instead.\n",
      "  df2[\"week_of_year\"] = df2[\"date\"].dt.weekofyear\n"
     ]
    }
   ],
   "source": [
    "df2 = df1.copy()\n",
    "\n",
    "# taking out the year's variable from \"date\"\n",
    "df2[\"year\"] = df2[\"date\"].dt.year\n",
    "\n",
    "# taking out the month's variable from \"date\"\n",
    "df2[\"month\"] = df2[\"date\"].dt.month\n",
    "\n",
    "# taking out the day's variable from \"date\"\n",
    "df2[\"day\"] = df2[\"date\"].dt.day\n",
    "\n",
    "# creating the week of year's variable from \"date\"\n",
    "df2[\"week_of_year\"] = df2[\"date\"].dt.weekofyear\n",
    "\n",
    "# creating year of week's variable from \"date\"\n",
    "df2[\"year_week\"] = df2[\"date\"].dt.strftime(\"%Y-%W\")\n",
    "\n",
    "# creating competition since's variable by joining \"competition_open_since_year\" and \"competition_open_since_month\"\n",
    "df2[\"competition_since\"] = df2.apply(lambda x: datetime.datetime(year = x[\"competition_open_since_year\"], \n",
    "                                       month = x[\"competition_open_since_month\"], day = 1), axis = 1)\n",
    "\n",
    "# creating competition time month's variable by subtracting the \"date\" variable by the \"competition_since\" variable\n",
    "df2[\"competition_time_month\"] = ((df2[\"date\"] - df2[\"competition_since\"]) / 30).apply(lambda x:x.days).astype(int)\n",
    "\n",
    "# creating promo_since's variable by combining 'promo2_since_year' and 'promo2_since_week'\n",
    "df2[\"promo_since\"] = df2[\"promo2_since_year\"].astype(str) + \"-\" + df2[\"promo2_since_week\"].astype(str)\n",
    "df2[\"promo_since\"] = df2[\"promo_since\"].apply(lambda x: datetime.datetime.strptime( x + \"-1\", \"%Y-%W-%w\") - \n",
    "                                              datetime.timedelta( days = 7))\n",
    "\n",
    "# creating 'promo_time_week' by calculating the difference between 'date' and 'promo_since':\n",
    "df2[\"promo_time_week\"] = ((df2[\"date\"] - df2[\"promo_since\"]) / 7).apply(lambda x: x.days).astype(int)\n",
    "\n",
    "# giving assortment's variable new values based on the given classification\n",
    "df2[\"assortment\"] = df2[\"assortment\"].apply(lambda x: \"basic\" if x == \"a\" else \"extra\" if x == \"b\" else \"extended\")\n",
    "\n",
    "# giving state holiday's variable new values based on the given classification\n",
    "df2[\"state_holiday\"] = df2[\"state_holiday\"].apply(lambda x: \"public_holiday\" if x == \"a\" \n",
    "                                                  else \"easter_holiday\" if x == \"b\" else \"christmas\" \n",
    "                                                  if x == \"c\" else \"no_holiday\")\n",
    "\n",
    "# negative values for 'promo_time_week' means that promotion happened after sales register"
   ]
  },
  {
   "cell_type": "markdown",
   "metadata": {},
   "source": [
    "# 3.0. VARIABLE FILTERING"
   ]
  },
  {
   "cell_type": "code",
   "execution_count": 139,
   "metadata": {
    "ExecuteTime": {
     "end_time": "2023-05-27T18:16:20.014513Z",
     "start_time": "2023-05-27T18:16:19.300213Z"
    }
   },
   "outputs": [],
   "source": [
    "df3 = df2.copy()"
   ]
  },
  {
   "cell_type": "markdown",
   "metadata": {},
   "source": [
    "## 3.1. Lines Filtering"
   ]
  },
  {
   "cell_type": "code",
   "execution_count": 140,
   "metadata": {
    "ExecuteTime": {
     "end_time": "2023-05-27T18:16:20.820731Z",
     "start_time": "2023-05-27T18:16:20.022514Z"
    }
   },
   "outputs": [],
   "source": [
    "df3 = df3[(df3[\"open\"] !=0) & (df3[\"sales\"] > 0)]"
   ]
  },
  {
   "cell_type": "markdown",
   "metadata": {},
   "source": [
    "## 3.2. Columns Selections"
   ]
  },
  {
   "cell_type": "code",
   "execution_count": 141,
   "metadata": {
    "ExecuteTime": {
     "end_time": "2023-05-27T18:16:21.051582Z",
     "start_time": "2023-05-27T18:16:20.825732Z"
    }
   },
   "outputs": [],
   "source": [
    "cols_drop = [\"customers\",\"open\", \"promo_interval\", \"month_map\"]\n",
    "df3 = df3.drop(cols_drop, axis = 1)"
   ]
  }
 ],
 "metadata": {
  "kernelspec": {
   "display_name": "Python 3",
   "language": "python",
   "name": "python3"
  },
  "language_info": {
   "codemirror_mode": {
    "name": "ipython",
    "version": 3
   },
   "file_extension": ".py",
   "mimetype": "text/x-python",
   "name": "python",
   "nbconvert_exporter": "python",
   "pygments_lexer": "ipython3",
   "version": "3.8.5"
  }
 },
 "nbformat": 4,
 "nbformat_minor": 5
}
